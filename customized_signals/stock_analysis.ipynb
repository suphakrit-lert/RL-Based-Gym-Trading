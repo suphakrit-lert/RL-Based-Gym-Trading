{
 "cells": [
  {
   "cell_type": "code",
   "execution_count": null,
   "metadata": {},
   "outputs": [],
   "source": [
    "# import bs4 as bs    \n",
    "# import pickle    \n",
    "# import requests    \n",
    "# import lxml    \n",
    "# def save_sp500_tickers():\n",
    "#     resp = requests.get('https://en.wikipedia.org/wiki/List_of_S%26P_500_companies')        \n",
    "#     soup = bs.BeautifulSoup(resp.text,'lxml')        \n",
    "#     table = soup.find('table', {'class': 'wikitable sortable'})        \n",
    "\n",
    "#     tickers = []\n",
    "\n",
    "#     for row in table.findAll('tr')[1:]:\n",
    "#         ticker = row.findAll('td')[0].text\n",
    "#         tickers.append(ticker)\n",
    "\n",
    "#     with open(\"sp500tickers.pickle\", \"wb\") as f:\n",
    "#         pickle.dump(tickers, f)\n",
    "#     return tickers    \n",
    "\n",
    "# tickers = save_sp500_tickers()\n",
    "# tickers = [ticker.strip() for ticker in tickers]\n",
    "\n",
    "# invalid_tickers = {'BRK.B', 'BF.B'}\n",
    "# tickers = list(filter(lambda x: x not in invalid_tickers, tickers))\n",
    "\n",
    "# kurtosis = []\n",
    "# for ticker in tickers:\n",
    "#     stock = qs.utils.download_returns(ticker)\n",
    "#     stock = stock.loc['2020-01-01':]\n",
    "#     kurtosis.append(qs.stats.kurtosis(stock))\n",
    "\n",
    "# fortune500_df = pd.DataFrame({'tickers': tickers, 'kurtosis': kurtosis})\n",
    "# fortune500_df.head()"
   ]
  },
  {
   "cell_type": "code",
   "execution_count": null,
   "metadata": {},
   "outputs": [],
   "source": [
    "# import yfinance as yf\n",
    "# stock_full_names = []\n",
    "# for ticker in tickers:\n",
    "#     stock = yf.Ticker(ticker)\n",
    "#     stock_full_names.append(stock.info['longName'])"
   ]
  },
  {
   "cell_type": "code",
   "execution_count": null,
   "metadata": {},
   "outputs": [],
   "source": [
    "# fortune500_df['stock_full_names'] = pd.DataFrame({'stock_full_names': stock_full_names})"
   ]
  },
  {
   "cell_type": "code",
   "execution_count": null,
   "metadata": {},
   "outputs": [],
   "source": [
    "# fortune500_df.sort_values(by='kurtosis', ascending=False).head(50)"
   ]
  },
  {
   "cell_type": "code",
   "execution_count": null,
   "metadata": {},
   "outputs": [],
   "source": [
    "gme = qs.utils.download_returns('GME')\n",
    "gme = gme.loc['2010-07-01':'2023-02-10']\n",
    "\n",
    "amd = qs.utils.download_returns('AMD')\n",
    "amd = amd.loc['2010-07-01':'2023-02-10']\n",
    "\n",
    "tsla = qs.utils.download_returns('TSLA')\n",
    "tsla = tsla.loc['2010-07-01':'2023-02-10']\n",
    " \n",
    "xom = qs.utils.download_returns('XOM')\n",
    "xom = xom.loc['2010-07-01':'2023-02-10']\n",
    "\n",
    "print(\"GameStop's kurtosis: \", qs.stats.kurtosis(gme).round(2))\n",
    "print(\"Advances Micro Devices' kurtosis: \", qs.stats.kurtosis(amd).round(3))\n",
    "print(\"Tesla's kurtosis: \", qs.stats.kurtosis(tsla).round(2))\n",
    "print(\"ExxonMobil's kurtosis: \", qs.stats.kurtosis(xom).round(3))"
   ]
  }
 ],
 "metadata": {
  "language_info": {
   "name": "python"
  }
 },
 "nbformat": 4,
 "nbformat_minor": 2
}
